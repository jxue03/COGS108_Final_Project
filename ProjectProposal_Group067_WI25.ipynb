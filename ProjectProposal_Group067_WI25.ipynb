{
 "cells": [
  {
   "cell_type": "markdown",
   "metadata": {},
   "source": [
    "# COGS 108 - Project Proposal"
   ]
  },
  {
   "cell_type": "markdown",
   "metadata": {},
   "source": [
    "# Names\n",
    "\n",
    "- Roxana Chen\n",
    "- Jiayi Xue\n",
    "- Daphne Chen\n",
    "- Andrew Nguyen\n"
   ]
  },
  {
   "cell_type": "markdown",
   "metadata": {},
   "source": [
    "# Research Question"
   ]
  },
  {
   "cell_type": "markdown",
   "metadata": {},
   "source": [
    "How does the availability of mental health treatment facilities impact county-level incarceration rates in California from 2010 to 2024? Specifically, does greater access to mental health care correlate with lower jail admission rates?\n",
    "\n",
    "-  How we define availability can change; originally thought of as proximity to mental health institutions / the amount of mental health institutions in a county or given area but we can come up with different or better measures.\n",
    "-  We can change the area of focus based on the data we can find; for example, the scope can be looking at cities or counties in California, or it could be the states in the entire US.\n",
    "-  Years of focus will be subject to change based on data we can find; for now is based on equal years before & after the Data-Driven Justice Initiative which was launched in 2016.\n",
    "\n"
   ]
  },
  {
   "cell_type": "markdown",
   "metadata": {},
   "source": [
    "## Background and Prior Work"
   ]
  },
  {
   "cell_type": "markdown",
   "metadata": {},
   "source": [
    "\n",
    "Our question was born from a prior COGS 108 guest lecture by DJ Patil, where he discussed the Data-Driven Justice Initiative (DDJ). The DDJ is an initiative that is working to reduce recidivism – the tendency of someone previously incarcerated to reoffend and end up back in jail again – for those struggling with mental health crises. Many people are continuously cycling in and out of jail for low-level offenses, largely due to mental health issues and substance abuse. According to https://obamawhitehouse.archives.gov/datadrivenjustice, about 64% of these people are dealing with mental illness, and about 68% are dealing with substance abuse. Significant taxpayer money is being spent on cycling individuals in and out of jail, but more importantly, these people are stuck in a never-ending loop of incarceration that could be addressed with mental health services. This system worsens their mental health, narrowing their opportunities and stripping away chances for stability and reintegration. Instead of support, they face punishment, leaving them with fewer options and a higher chance of returning to jail.\n",
    "\n",
    "DDJ was implemented in 2016 under the Obama administration, and has appeared to succeed since its implementation. For example, according to this article https://medium.com/@ObamaWhiteHouse/launching-the-data-driven-justice-initiative-disrupting-the-cycle-of-incarceration-e222448a64cf, by training officers in Miami on mental health de-escalation, the police have since been able to accomplish over a 5-year span: “diverted more than 10,000 people away from jail and into treatment”, only have 109 arrests resulting from 50,000 calls for mental health crises, dropped the jail population by 40% and even closed an entire county jail facility, and drop recidivism rates from 72% to 20% for those receiving mental health treatment. Knowing all of this, we want to find out if the number of mental health resources affects the amount of people going to jail in an area.\n",
    "\n",
    "\n",
    "There are some research available online related to suvey about mental health service, for example, \"National Mental Health Services Survey (N-MHSS)\" which is conducted by the Substance Abuse and Mental Health Services Administration (SAMHSA), \n",
    "provides comprehensive data on the location, characteristics, and services of mental health treatment facilities across the U.S<a name=\\\"samhsa.gov\"></a>[<sup>1</sup>](#cite_note-1). This includes both inpatient and outpatient services at the county level. On the other hand, we found another source on \"Vera Institute of Justice’s Incarceration Trends Dataset\", it provides \n",
    "detailed visualization of historical data on incarceration rates at the state level, including jail and prison populations in each state, and the proportion of males and females within the population<a name=\\\"https://trends.vera.org/\"></a>[<sup>2</sup>](#cite_note-2). It allows for analysis of trends over time and comparisons across counties. One thing we notice is this report not only analyzed the gender \n",
    "but also the proportion of different race of people getting in jails. We can then consider if the mental health cases rise depends on gender and race, which can also be another valuable data to include in.\n",
    "\n"
   ]
  },
  {
   "cell_type": "markdown",
   "metadata": {},
   "source": [
    "# Hypothesis\n"
   ]
  },
  {
   "cell_type": "markdown",
   "metadata": {},
   "source": [
    "\n",
    "We hypothesize that counties with greater availability of mental health treatment facilities will have lower incarceration rates, particularly after 2016. We believe this effect will be more pronounced in areas with a higher amount of mental health crisis intervention facilities because they provide immediate alternatives to jail for individuals with mental health needs. Our predictions are largely based on the implementation of the Data-Driven Justice Initiative in 2016, which aimed to reduce jail recidivism by diverting individuals with mental health conditions toward treatment rather than incarceration. If the initiative was successful, we expect to see a stronger negative correlation between mental health facility availability and incarceration rates in the years following its implementation (post 2016).\n",
    "\n"
   ]
  },
  {
   "cell_type": "markdown",
   "metadata": {},
   "source": [
    "# Data"
   ]
  },
  {
   "cell_type": "markdown",
   "metadata": {},
   "source": [
    "\n",
    "The research question is considering if the availability of mental health treatment facilities correlates with lower incarceration rates in California, so the ideal dataset could include observations and variables regarding 1) The incarceration rate per 100,000 population, 2) Recidivism rates to count how many individuals return to jail after their first incarceration and the reasons for it. 3) The different types of incarceration(i.e. Mental health issues, burglary, drug abuse, non-violent crimes, etc.). \n",
    "It is also important to consider the number of mental health services and facilities per 100,000 people, number of trained mental health professionals/therapists in the area, access to mental health resources, number of psychological/psychiatric impatient beds, and funding.\n",
    "Besides, check the number of arrests made related to mental health issues, the number of criminals redirected to mental health centers from jail per year in the area.\n",
    "Look at how economic/covid-19, poverty rate, unemployment rate, education levels contribute to mental crisis and crime rate, and including the comparison between urban vs rural areas.\n",
    "\n",
    "\n",
    "Potential real datasets that could be used:\n",
    "\n",
    "Incarceration data:\n",
    "https://github.com/vera-institute/incarceration-trends.\n",
    "This is a github repo that contains incarceration trends in recent years. These datasets provide the time series analysis based on historical data on incarceration rates in jail and prison based on population and county.\n",
    "\n",
    "Mental health facility/professionals/resources data:\n",
    "https://data.chhs.ca.gov/dataset/licensed-mental-health-rehabilitation-centers-mhrc-and-psychiatric-health-facilities-phf. \n",
    "This dataset contains monthly of all mental health rehabilitation centers and psychiatric facilities in CA (licensed).\n",
    "https://www.samhsa.gov/data/data-we-collect/n-sumhss-national-substance-use-and-mental-health-services-survey: \n",
    "This is a very comprehensive survey of national substance use and mental health facilities. It highlights the time series trends that can help us observe how the changes in mental health investment impact jail populations over time.\n"
   ]
  },
  {
   "cell_type": "markdown",
   "metadata": {},
   "source": [
    "# Ethics & Privacy"
   ]
  },
  {
   "cell_type": "markdown",
   "metadata": {},
   "source": [
    "\n",
    "Privacy:\n",
    "- Data is anonymized and generalized so personal identification would not be possible from the data\n",
    "Ethical concerns:\n",
    "- Data might show that certain communities perform worse even with access to mental health care. This might be an inaccurate portrayal such as if those communities have a low standard of living. \n",
    "- Data might also show that mental health care access doesn't work if prison incarceration rate is the same regardless of availability of mental health care\n",
    "\n",
    " Biases:\n",
    "- Places that can afford mental health treatment facilities may be richer than other areas. Generally, places with higher income may have lower incarceration rates. \n",
    "- Mental health treatment might not fit the reason for incarceration - ex: weed\n",
    "- Crime severity- mental health treatment might work better on smaller crimes rather than severe ones like murder. Some prisons might hold more maximum security prisoners or repeat offenders. Those ones might show less effect from mental health availability.\n",
    "\n",
    " Bias Resolution: \n",
    "- We will factor in location gdp/income to reduce the bias from income\n",
    "- Organize data by crime type/ severeness\n",
    "- Organize data by prison type\n",
    "\n"
   ]
  },
  {
   "cell_type": "markdown",
   "metadata": {},
   "source": [
    "# Team Expectations "
   ]
  },
  {
   "cell_type": "markdown",
   "metadata": {},
   "source": [
    "\n",
    "Read over the [COGS108 Team Policies](https://github.com/COGS108/Projects/blob/master/COGS108_TeamPolicies.md) individually. Then, include your group’s expectations of one another for successful completion of your COGS108 project below. Discuss and agree on what all of your expectations are. Discuss how your team will communicate throughout the quarter and consider how you will communicate respectfully should conflicts arise. By including each member’s name above and by adding their name to the submission, you are indicating that you have read the COGS108 Team Policies, accept your team’s expectations below, and have every intention to fulfill them. These expectations are for your team’s use and benefit — they won’t be graded for their details.\n",
    "\n",
    "* *Communicate using text messages to set up times to meet either in person or on zoom. Be kind, respectful, and clear in communicating. Encourage each other to share their opinions.*\n",
    "* *Try to meet once a week, and if we think the work will be more intensive then we can up the number of meetings to as many more as we think is necessary and are possible. Try to meet in person when possible, and over Zoom when not*\n",
    "* *I think we can come to a consensus whenever possible and in the case that it is not, we can go with the majority opinion. If a decision is time-sensitive and someone is nonresponsive, we will go with what the person/people who are actively participating in the decision think is the best course of action given the situation.*\n",
    "* *For tasks, I believe that we can each choose the sections we feel most comfortable doing while also being flexible to fill in when needed.*\n",
    "* *If someone can’t complete a task they were previously going to, just let the group know and we can divvy up the work among the remaining group members.*\n"
   ]
  },
  {
   "cell_type": "markdown",
   "metadata": {},
   "source": [
    "# Project Timeline Proposal"
   ]
  },
  {
   "cell_type": "markdown",
   "metadata": {},
   "source": [
    "Specify your team's specific project timeline. An example timeline has been provided. Changes the dates, times, names, and details to fit your group's plan.\n",
    "\n",
    "If you think you will need any special resources or training outside what we have covered in COGS 108 to solve your problem, then your proposal should state these clearly. For example, if you have selected a problem that involves implementing multiple neural networks, please state this so we can make sure you know what you’re doing and so we can point you to resources you will need to implement your project. Note that you are not required to use outside methods.\n",
    "\n",
    "\n",
    "\n",
    "| Meeting Date  | Meeting Time| Completed Before Meeting  | Discuss at Meeting |\n",
    "|---|---|---|---|\n",
    "| 2/12  |  3 PM | Look at datasets  | Finalize datasets | \n",
    "| 2/19  |  3 PM |  Import & Wrangle Data (Ant Man) | Review/Edit & Discuss data wrangling, prepare for Project Check-in | \n",
    "| 2/23  |  3 PM |  Work on wrangling data | Complete/Submit Project Check-in #1 | \n",
    "| 2/26  | 3 PM  | Work on & Finalize wrangling/EDA  | Finalize EDA   |\n",
    "| 3/5  | 3 PM  | Work on Analysis | Discuss/edit analysis & prepare for Project Check-in #2   |\n",
    "| 3/9  | 3 PM  | Work on Project Check-in #2 | Complete/Submit Project Check-in #2   |\n",
    "| 3/12  | 3 PM  | Finalize analysis & work on report narrative | Finalize report narrative |\n",
    "| 3/19  | 3 PM  | Refine report narrative | Finalizing report & Finishing touches |\n",
    "| 3/19  | Due before 11:59 PM  | Everyone should finish their assigned parts and ready to make the final merge and edits  | Turn in Final Project & Group Project Surveys |"
   ]
  }
 ],
 "metadata": {
  "kernelspec": {
   "display_name": "Python 3 (ipykernel)",
   "language": "python",
   "name": "python3"
  },
  "language_info": {
   "codemirror_mode": {
    "name": "ipython",
    "version": 3
   },
   "file_extension": ".py",
   "mimetype": "text/x-python",
   "name": "python",
   "nbconvert_exporter": "python",
   "pygments_lexer": "ipython3",
   "version": "3.11.9"
  }
 },
 "nbformat": 4,
 "nbformat_minor": 4
}
